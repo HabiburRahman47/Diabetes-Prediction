{
  "metadata": {
    "kernelspec": {
      "language": "python",
      "display_name": "Python 3",
      "name": "python3"
    },
    "language_info": {
      "name": "python",
      "version": "3.7.10",
      "mimetype": "text/x-python",
      "codemirror_mode": {
        "name": "ipython",
        "version": 3
      },
      "pygments_lexer": "ipython3",
      "nbconvert_exporter": "python",
      "file_extension": ".py"
    },
    "colab": {
      "provenance": [],
      "include_colab_link": true
    }
  },
  "nbformat_minor": 0,
  "nbformat": 4,
  "cells": [
    {
      "cell_type": "markdown",
      "metadata": {
        "id": "view-in-github",
        "colab_type": "text"
      },
      "source": [
        "<a href=\"https://colab.research.google.com/github/HabiburRahman47/Diabetes-Prediction/blob/main/thesis_on_diabetes_detection_final.ipynb\" target=\"_parent\"><img src=\"https://colab.research.google.com/assets/colab-badge.svg\" alt=\"Open In Colab\"/></a>"
      ]
    },
    {
      "cell_type": "markdown",
      "source": [
        "# Import Necessary Libraries"
      ],
      "metadata": {
        "id": "vC1vd0SFd6p3"
      }
    },
    {
      "cell_type": "code",
      "source": [
        "# Data Manipulation and Linear Algebra\n",
        "import pandas as pd\n",
        "import numpy as np\n",
        "\n",
        "# Plots\n",
        "import seaborn as sns\n",
        "sns.set_style(\"darkgrid\")\n",
        "import matplotlib.pyplot as plt\n",
        "\n",
        "# Machine Learning\n",
        "from sklearn.model_selection import train_test_split, cross_val_score, GridSearchCV\n",
        "from sklearn.metrics import accuracy_score, confusion_matrix\n",
        "from sklearn.preprocessing import StandardScaler\n",
        "\n",
        "from sklearn import svm, tree, linear_model, neighbors, naive_bayes, ensemble, discriminant_analysis, gaussian_process\n",
        "from xgboost import XGBClassifier\n",
        "from catboost import CatBoostClassifier\n",
        "\n",
        "#ignore warning messages \n",
        "import warnings\n",
        "warnings.filterwarnings('ignore')"
      ],
      "metadata": {
        "id": "2lo5_yKAd6p9",
        "execution": {
          "iopub.status.busy": "2022-03-29T08:18:33.532708Z",
          "iopub.execute_input": "2022-03-29T08:18:33.533107Z",
          "iopub.status.idle": "2022-03-29T08:18:35.165011Z",
          "shell.execute_reply.started": "2022-03-29T08:18:33.532995Z",
          "shell.execute_reply": "2022-03-29T08:18:35.163911Z"
        },
        "trusted": true
      },
      "execution_count": null,
      "outputs": []
    },
    {
      "cell_type": "markdown",
      "source": [
        "## Loading Data"
      ],
      "metadata": {
        "id": "uvx6FQxBd6p_"
      }
    },
    {
      "cell_type": "code",
      "source": [
        "data = pd.read_csv(\"../input/pima-indians-diabetes-database/diabetes.csv\")"
      ],
      "metadata": {
        "id": "6hP7q2Dtd6qA",
        "execution": {
          "iopub.status.busy": "2022-03-29T08:18:35.166814Z",
          "iopub.execute_input": "2022-03-29T08:18:35.167100Z",
          "iopub.status.idle": "2022-03-29T08:18:35.189779Z",
          "shell.execute_reply.started": "2022-03-29T08:18:35.167066Z",
          "shell.execute_reply": "2022-03-29T08:18:35.188628Z"
        },
        "trusted": true
      },
      "execution_count": null,
      "outputs": []
    },
    {
      "cell_type": "markdown",
      "source": [
        "# Data Overview"
      ],
      "metadata": {
        "id": "qGqZRf5nd6qA"
      }
    },
    {
      "cell_type": "code",
      "source": [
        "data.info()"
      ],
      "metadata": {
        "id": "4JkHqL9Sd6qB",
        "execution": {
          "iopub.status.busy": "2022-03-29T08:18:35.191233Z",
          "iopub.execute_input": "2022-03-29T08:18:35.191545Z",
          "iopub.status.idle": "2022-03-29T08:18:35.220938Z",
          "shell.execute_reply.started": "2022-03-29T08:18:35.191509Z",
          "shell.execute_reply": "2022-03-29T08:18:35.219804Z"
        },
        "trusted": true
      },
      "execution_count": null,
      "outputs": []
    },
    {
      "cell_type": "code",
      "source": [
        "data.head()"
      ],
      "metadata": {
        "id": "Vz9I4Ywfd6qC",
        "execution": {
          "iopub.status.busy": "2022-03-29T08:18:35.223051Z",
          "iopub.execute_input": "2022-03-29T08:18:35.223765Z",
          "iopub.status.idle": "2022-03-29T08:18:35.254396Z",
          "shell.execute_reply.started": "2022-03-29T08:18:35.223711Z",
          "shell.execute_reply": "2022-03-29T08:18:35.253264Z"
        },
        "trusted": true
      },
      "execution_count": null,
      "outputs": []
    },
    {
      "cell_type": "code",
      "source": [
        "fig, axes = plt.subplots(figsize=(20, 8), nrows=1, ncols=2)\n",
        "\n",
        "sns.countplot(x=\"Outcome\", data=data, palette=['#5bde54',\"#de5454\"], ax=axes[0])\n",
        "axes[0].set_title(\"Count of Outcome variable\")\n",
        "axes[0].set_ylabel(\"Count\")\n",
        "axes[0].set_xticklabels([\"Healty\", \"Diabetic\"])\n",
        "\n",
        "plt.pie(data.Outcome.value_counts(), autopct='%.1f%%', labels=[\"Healty\", \"Diabetic\"], colors=['#5bde54',\"#de5454\"])\n",
        "axes[1].set_title(\"Count of Outcome variable\")\n",
        "\n",
        "plt.show()"
      ],
      "metadata": {
        "id": "b5AfWTM9d6qD",
        "execution": {
          "iopub.status.busy": "2022-03-29T08:18:35.256088Z",
          "iopub.execute_input": "2022-03-29T08:18:35.256490Z",
          "iopub.status.idle": "2022-03-29T08:18:35.793244Z",
          "shell.execute_reply.started": "2022-03-29T08:18:35.256425Z",
          "shell.execute_reply": "2022-03-29T08:18:35.792286Z"
        },
        "trusted": true
      },
      "execution_count": null,
      "outputs": []
    },
    {
      "cell_type": "markdown",
      "source": [
        "## Missing Values"
      ],
      "metadata": {
        "id": "Rm8Sj5vOd6qE"
      }
    },
    {
      "cell_type": "code",
      "source": [
        "data.describe()"
      ],
      "metadata": {
        "id": "kNnOiW-Od6qF",
        "execution": {
          "iopub.status.busy": "2022-03-29T08:18:35.794578Z",
          "iopub.execute_input": "2022-03-29T08:18:35.794828Z",
          "iopub.status.idle": "2022-03-29T08:18:35.837320Z",
          "shell.execute_reply.started": "2022-03-29T08:18:35.794799Z",
          "shell.execute_reply": "2022-03-29T08:18:35.836553Z"
        },
        "trusted": true
      },
      "execution_count": null,
      "outputs": []
    },
    {
      "cell_type": "markdown",
      "source": [
        "#### As you can see the minimum value for Glucose, BloodPressure, skinThickness, Insulin and BMI is 0 which is practically not possible which suggests us that it is a faulty value."
      ],
      "metadata": {
        "id": "nApIfORod6qG"
      }
    },
    {
      "cell_type": "code",
      "source": [
        "# Replacing 0 by nan to calculate the null values\n",
        "data[['Glucose','BloodPressure','SkinThickness','Insulin','BMI']] = data[['Glucose','BloodPressure','SkinThickness','Insulin','BMI']].replace(0,np.NaN)"
      ],
      "metadata": {
        "id": "U_Sh5qLqd6qG",
        "execution": {
          "iopub.status.busy": "2022-03-29T08:18:35.838984Z",
          "iopub.execute_input": "2022-03-29T08:18:35.839529Z",
          "iopub.status.idle": "2022-03-29T08:18:35.851172Z",
          "shell.execute_reply.started": "2022-03-29T08:18:35.839442Z",
          "shell.execute_reply": "2022-03-29T08:18:35.849988Z"
        },
        "trusted": true
      },
      "execution_count": null,
      "outputs": []
    },
    {
      "cell_type": "code",
      "source": [
        "# Missing Values\n",
        "data.isnull().sum()"
      ],
      "metadata": {
        "id": "7FlgqDKNd6qH",
        "execution": {
          "iopub.status.busy": "2022-03-29T08:18:35.852651Z",
          "iopub.execute_input": "2022-03-29T08:18:35.852973Z",
          "iopub.status.idle": "2022-03-29T08:18:35.866438Z",
          "shell.execute_reply.started": "2022-03-29T08:18:35.852938Z",
          "shell.execute_reply": "2022-03-29T08:18:35.865608Z"
        },
        "trusted": true
      },
      "execution_count": null,
      "outputs": []
    },
    {
      "cell_type": "markdown",
      "source": [
        "#### To fill these Nan values the data distribution needs to be understood against the target."
      ],
      "metadata": {
        "id": "RuxoavG3d6qH"
      }
    },
    {
      "cell_type": "code",
      "source": [
        "plt.rcParams[\"figure.figsize\"] = (10, 8)\n",
        "plt.rcParams[\"figure.dpi\"] = 80\n",
        "sns.heatmap(data.corr(), annot=True, cmap=\"viridis\")\n",
        "plt.show()"
      ],
      "metadata": {
        "id": "EqDCMN_Hd6qH",
        "execution": {
          "iopub.status.busy": "2022-03-29T08:18:35.867847Z",
          "iopub.execute_input": "2022-03-29T08:18:35.868530Z",
          "iopub.status.idle": "2022-03-29T08:18:36.662429Z",
          "shell.execute_reply.started": "2022-03-29T08:18:35.868485Z",
          "shell.execute_reply": "2022-03-29T08:18:36.661589Z"
        },
        "trusted": true
      },
      "execution_count": null,
      "outputs": []
    },
    {
      "cell_type": "markdown",
      "source": [
        "# Replace Missing Values and EDA"
      ],
      "metadata": {
        "id": "07JlYcTjd6qI"
      }
    },
    {
      "cell_type": "code",
      "source": [
        "def distributon_plot(x):\n",
        "    fig, axes = plt.subplots(figsize=(20, 8), nrows=1, ncols=2)\n",
        "\n",
        "    sns.histplot(x=x, hue=\"Outcome\", data=data, palette=['#5bde54',\"#de5454\"], ax=axes[0])\n",
        "    axes[0].set_title(f\"{x} Distribution Histplot\")\n",
        "    axes[0].legend([\"Diabetic\", \"Healthy\"])\n",
        "    axes[0].set_ylabel(\"Density / Count\")\n",
        "\n",
        "    sns.kdeplot(x=x, hue=\"Outcome\", data=data, palette=['#5bde54',\"#de5454\"], ax=axes[1])\n",
        "    axes[1].set_title(f\"{x} Distribution Kdeplot\")\n",
        "    axes[1].legend([\"Diabetic\", \"Healthy\"])\n",
        "    axes[1].set_ylabel(\"Density / Count\")\n",
        "\n",
        "    plt.show()"
      ],
      "metadata": {
        "id": "u-UFum_rd6qI",
        "execution": {
          "iopub.status.busy": "2022-03-29T08:18:36.665511Z",
          "iopub.execute_input": "2022-03-29T08:18:36.665934Z",
          "iopub.status.idle": "2022-03-29T08:18:36.673779Z",
          "shell.execute_reply.started": "2022-03-29T08:18:36.665899Z",
          "shell.execute_reply": "2022-03-29T08:18:36.673016Z"
        },
        "trusted": true
      },
      "execution_count": null,
      "outputs": []
    },
    {
      "cell_type": "code",
      "source": [
        "# Gets two Median Valuse for Both Outcomes Seprately\n",
        "def median_target(var):   \n",
        "    temp = data[data[var].notnull()]\n",
        "    temp = temp[[var, 'Outcome']].groupby(['Outcome'])[[var]].median().reset_index()\n",
        "    return temp"
      ],
      "metadata": {
        "id": "TP4TdHNxd6qJ",
        "execution": {
          "iopub.status.busy": "2022-03-29T08:18:36.674964Z",
          "iopub.execute_input": "2022-03-29T08:18:36.675324Z",
          "iopub.status.idle": "2022-03-29T08:18:36.691422Z",
          "shell.execute_reply.started": "2022-03-29T08:18:36.675295Z",
          "shell.execute_reply": "2022-03-29T08:18:36.690325Z"
        },
        "trusted": true
      },
      "execution_count": null,
      "outputs": []
    },
    {
      "cell_type": "markdown",
      "source": [
        "## Insulin"
      ],
      "metadata": {
        "id": "ScFIrDmjd6qK"
      }
    },
    {
      "cell_type": "code",
      "source": [
        "distributon_plot(\"Insulin\")"
      ],
      "metadata": {
        "id": "kKRcbkbfd6qK",
        "execution": {
          "iopub.status.busy": "2022-03-29T08:18:36.692928Z",
          "iopub.execute_input": "2022-03-29T08:18:36.693221Z",
          "iopub.status.idle": "2022-03-29T08:18:37.451468Z",
          "shell.execute_reply.started": "2022-03-29T08:18:36.693188Z",
          "shell.execute_reply": "2022-03-29T08:18:37.450509Z"
        },
        "trusted": true
      },
      "execution_count": null,
      "outputs": []
    },
    {
      "cell_type": "code",
      "source": [
        "median_target('Insulin')"
      ],
      "metadata": {
        "id": "GsPIFtyzd6qK",
        "execution": {
          "iopub.status.busy": "2022-03-29T08:18:37.452796Z",
          "iopub.execute_input": "2022-03-29T08:18:37.453143Z",
          "iopub.status.idle": "2022-03-29T08:18:37.475293Z",
          "shell.execute_reply.started": "2022-03-29T08:18:37.453110Z",
          "shell.execute_reply": "2022-03-29T08:18:37.474335Z"
        },
        "trusted": true
      },
      "execution_count": null,
      "outputs": []
    },
    {
      "cell_type": "markdown",
      "source": [
        "#### Insulin's medians by the target are really different ! 102.5 for a healthy person and 169.5 for a diabetic person"
      ],
      "metadata": {
        "id": "ps_gIO5Ld6qL"
      }
    },
    {
      "cell_type": "code",
      "source": [
        "data.loc[(data['Outcome'] == 0 ) & (data['Insulin'].isnull()), 'Insulin'] = 102.5\n",
        "data.loc[(data['Outcome'] == 1 ) & (data['Insulin'].isnull()), 'Insulin'] = 169.5"
      ],
      "metadata": {
        "id": "fFXu4S8ed6qL",
        "execution": {
          "iopub.status.busy": "2022-03-29T08:18:37.477064Z",
          "iopub.execute_input": "2022-03-29T08:18:37.477324Z",
          "iopub.status.idle": "2022-03-29T08:18:37.489686Z",
          "shell.execute_reply.started": "2022-03-29T08:18:37.477296Z",
          "shell.execute_reply": "2022-03-29T08:18:37.488583Z"
        },
        "trusted": true
      },
      "execution_count": null,
      "outputs": []
    },
    {
      "cell_type": "markdown",
      "source": [
        "## Glucose"
      ],
      "metadata": {
        "id": "vWnbYKNNd6qL"
      }
    },
    {
      "cell_type": "code",
      "source": [
        "distributon_plot(\"Glucose\")"
      ],
      "metadata": {
        "id": "S4R3FrJed6qM",
        "execution": {
          "iopub.status.busy": "2022-03-29T08:18:37.491259Z",
          "iopub.execute_input": "2022-03-29T08:18:37.492182Z",
          "iopub.status.idle": "2022-03-29T08:18:38.201176Z",
          "shell.execute_reply.started": "2022-03-29T08:18:37.492126Z",
          "shell.execute_reply": "2022-03-29T08:18:38.200351Z"
        },
        "trusted": true
      },
      "execution_count": null,
      "outputs": []
    },
    {
      "cell_type": "code",
      "source": [
        "median_target('Glucose')"
      ],
      "metadata": {
        "id": "cnA9c9kwd6qM",
        "execution": {
          "iopub.status.busy": "2022-03-29T08:18:38.202500Z",
          "iopub.execute_input": "2022-03-29T08:18:38.202752Z",
          "iopub.status.idle": "2022-03-29T08:18:38.221175Z",
          "shell.execute_reply.started": "2022-03-29T08:18:38.202723Z",
          "shell.execute_reply": "2022-03-29T08:18:38.220381Z"
        },
        "trusted": true
      },
      "execution_count": null,
      "outputs": []
    },
    {
      "cell_type": "code",
      "source": [
        "data.loc[(data['Outcome'] == 0 ) & (data['Glucose'].isnull()), 'Glucose'] = 107\n",
        "data.loc[(data['Outcome'] == 1 ) & (data['Glucose'].isnull()), 'Glucose'] = 140"
      ],
      "metadata": {
        "id": "LVEnvcLkd6qN",
        "execution": {
          "iopub.status.busy": "2022-03-29T08:18:38.222388Z",
          "iopub.execute_input": "2022-03-29T08:18:38.223019Z",
          "iopub.status.idle": "2022-03-29T08:18:38.234200Z",
          "shell.execute_reply.started": "2022-03-29T08:18:38.222977Z",
          "shell.execute_reply": "2022-03-29T08:18:38.233423Z"
        },
        "trusted": true
      },
      "execution_count": null,
      "outputs": []
    },
    {
      "cell_type": "markdown",
      "source": [
        "## Skin Thickness"
      ],
      "metadata": {
        "id": "PY_mChMqd6qN"
      }
    },
    {
      "cell_type": "code",
      "source": [
        "distributon_plot(\"SkinThickness\")"
      ],
      "metadata": {
        "id": "vJ2sZH_9d6qO",
        "execution": {
          "iopub.status.busy": "2022-03-29T08:18:38.235514Z",
          "iopub.execute_input": "2022-03-29T08:18:38.236373Z",
          "iopub.status.idle": "2022-03-29T08:18:38.959741Z",
          "shell.execute_reply.started": "2022-03-29T08:18:38.236328Z",
          "shell.execute_reply": "2022-03-29T08:18:38.958755Z"
        },
        "trusted": true
      },
      "execution_count": null,
      "outputs": []
    },
    {
      "cell_type": "code",
      "source": [
        "median_target(\"SkinThickness\")"
      ],
      "metadata": {
        "id": "ZWk-qrNYd6qO",
        "execution": {
          "iopub.status.busy": "2022-03-29T08:18:38.961085Z",
          "iopub.execute_input": "2022-03-29T08:18:38.961350Z",
          "iopub.status.idle": "2022-03-29T08:18:38.976751Z",
          "shell.execute_reply.started": "2022-03-29T08:18:38.961318Z",
          "shell.execute_reply": "2022-03-29T08:18:38.975928Z"
        },
        "trusted": true
      },
      "execution_count": null,
      "outputs": []
    },
    {
      "cell_type": "code",
      "source": [
        "data.loc[(data['Outcome'] == 0 ) & (data['SkinThickness'].isnull()), 'SkinThickness'] = 27\n",
        "data.loc[(data['Outcome'] == 1 ) & (data['SkinThickness'].isnull()), 'SkinThickness'] = 32"
      ],
      "metadata": {
        "id": "BzVvMJvld6qP",
        "execution": {
          "iopub.status.busy": "2022-03-29T08:18:38.977895Z",
          "iopub.execute_input": "2022-03-29T08:18:38.978687Z",
          "iopub.status.idle": "2022-03-29T08:18:38.986990Z",
          "shell.execute_reply.started": "2022-03-29T08:18:38.978642Z",
          "shell.execute_reply": "2022-03-29T08:18:38.986164Z"
        },
        "trusted": true
      },
      "execution_count": null,
      "outputs": []
    },
    {
      "cell_type": "markdown",
      "source": [
        "## Blood Pressure"
      ],
      "metadata": {
        "id": "PrmPdYwXd6qP"
      }
    },
    {
      "cell_type": "code",
      "source": [
        "distributon_plot(\"BloodPressure\")"
      ],
      "metadata": {
        "id": "ZQ7SDUi9d6qP",
        "execution": {
          "iopub.status.busy": "2022-03-29T08:18:38.988081Z",
          "iopub.execute_input": "2022-03-29T08:18:38.988668Z",
          "iopub.status.idle": "2022-03-29T08:18:39.771010Z",
          "shell.execute_reply.started": "2022-03-29T08:18:38.988636Z",
          "shell.execute_reply": "2022-03-29T08:18:39.769813Z"
        },
        "trusted": true
      },
      "execution_count": null,
      "outputs": []
    },
    {
      "cell_type": "code",
      "source": [
        "median_target('BloodPressure')"
      ],
      "metadata": {
        "id": "vHkrLDJpd6qQ",
        "execution": {
          "iopub.status.busy": "2022-03-29T08:18:39.772986Z",
          "iopub.execute_input": "2022-03-29T08:18:39.773348Z",
          "iopub.status.idle": "2022-03-29T08:18:39.789674Z",
          "shell.execute_reply.started": "2022-03-29T08:18:39.773301Z",
          "shell.execute_reply": "2022-03-29T08:18:39.788571Z"
        },
        "trusted": true
      },
      "execution_count": null,
      "outputs": []
    },
    {
      "cell_type": "code",
      "source": [
        "data.loc[(data['Outcome'] == 0 ) & (data['BloodPressure'].isnull()), 'BloodPressure'] = 70\n",
        "data.loc[(data['Outcome'] == 1 ) & (data['BloodPressure'].isnull()), 'BloodPressure'] = 74.5"
      ],
      "metadata": {
        "id": "tz-65p-Ad6qQ",
        "execution": {
          "iopub.status.busy": "2022-03-29T08:18:39.791103Z",
          "iopub.execute_input": "2022-03-29T08:18:39.791411Z",
          "iopub.status.idle": "2022-03-29T08:18:39.805853Z",
          "shell.execute_reply.started": "2022-03-29T08:18:39.791377Z",
          "shell.execute_reply": "2022-03-29T08:18:39.804594Z"
        },
        "trusted": true
      },
      "execution_count": null,
      "outputs": []
    },
    {
      "cell_type": "markdown",
      "source": [
        "## BMI"
      ],
      "metadata": {
        "id": "WnbjknpKd6qQ"
      }
    },
    {
      "cell_type": "code",
      "source": [
        "distributon_plot(\"BMI\")"
      ],
      "metadata": {
        "id": "dfQAh7tXd6qR",
        "execution": {
          "iopub.status.busy": "2022-03-29T08:18:39.807435Z",
          "iopub.execute_input": "2022-03-29T08:18:39.807781Z",
          "iopub.status.idle": "2022-03-29T08:18:40.770341Z",
          "shell.execute_reply.started": "2022-03-29T08:18:39.807744Z",
          "shell.execute_reply": "2022-03-29T08:18:40.769382Z"
        },
        "trusted": true
      },
      "execution_count": null,
      "outputs": []
    },
    {
      "cell_type": "code",
      "source": [
        "median_target('BMI')"
      ],
      "metadata": {
        "id": "TIjPVQYfd6qR",
        "execution": {
          "iopub.status.busy": "2022-03-29T08:18:40.772233Z",
          "iopub.execute_input": "2022-03-29T08:18:40.772722Z",
          "iopub.status.idle": "2022-03-29T08:18:40.789029Z",
          "shell.execute_reply.started": "2022-03-29T08:18:40.772677Z",
          "shell.execute_reply": "2022-03-29T08:18:40.788029Z"
        },
        "trusted": true
      },
      "execution_count": null,
      "outputs": []
    },
    {
      "cell_type": "code",
      "source": [
        "data.loc[(data['Outcome'] == 0 ) & (data['BMI'].isnull()), 'BMI'] = 30.1\n",
        "data.loc[(data['Outcome'] == 1 ) & (data['BMI'].isnull()), 'BMI'] = 34.3"
      ],
      "metadata": {
        "id": "qHKVkR72d6qS",
        "execution": {
          "iopub.status.busy": "2022-03-29T08:18:40.790560Z",
          "iopub.execute_input": "2022-03-29T08:18:40.790883Z",
          "iopub.status.idle": "2022-03-29T08:18:40.799972Z",
          "shell.execute_reply.started": "2022-03-29T08:18:40.790834Z",
          "shell.execute_reply": "2022-03-29T08:18:40.798796Z"
        },
        "trusted": true
      },
      "execution_count": null,
      "outputs": []
    },
    {
      "cell_type": "code",
      "source": [
        "distributon_plot(\"Age\")\n",
        "distributon_plot(\"Pregnancies\")\n",
        "distributon_plot(\"DiabetesPedigreeFunction\")"
      ],
      "metadata": {
        "id": "RButTSCrd6qS",
        "execution": {
          "iopub.status.busy": "2022-03-29T08:18:40.801173Z",
          "iopub.execute_input": "2022-03-29T08:18:40.801475Z",
          "iopub.status.idle": "2022-03-29T08:18:42.968394Z",
          "shell.execute_reply.started": "2022-03-29T08:18:40.801423Z",
          "shell.execute_reply": "2022-03-29T08:18:42.967570Z"
        },
        "trusted": true
      },
      "execution_count": null,
      "outputs": []
    },
    {
      "cell_type": "markdown",
      "source": [
        "## All Features Pair Plot"
      ],
      "metadata": {
        "id": "8Skek-9Id6qS"
      }
    },
    {
      "cell_type": "code",
      "source": [
        "sns.pairplot(data, hue=\"Outcome\")\n",
        "plt.show()"
      ],
      "metadata": {
        "id": "BNy6vaLHd6qS",
        "execution": {
          "iopub.status.busy": "2022-03-29T08:18:42.972595Z",
          "iopub.execute_input": "2022-03-29T08:18:42.972868Z",
          "iopub.status.idle": "2022-03-29T08:19:04.519112Z",
          "shell.execute_reply.started": "2022-03-29T08:18:42.972836Z",
          "shell.execute_reply": "2022-03-29T08:19:04.515918Z"
        },
        "trusted": true
      },
      "execution_count": null,
      "outputs": []
    },
    {
      "cell_type": "markdown",
      "source": [
        "### Final Check for Null Values in Data"
      ],
      "metadata": {
        "id": "fJHcdsvQd6qS"
      }
    },
    {
      "cell_type": "code",
      "source": [
        "data.isnull().sum()"
      ],
      "metadata": {
        "id": "f-pIbHIwd6qT",
        "execution": {
          "iopub.status.busy": "2022-03-29T08:19:04.520823Z",
          "iopub.execute_input": "2022-03-29T08:19:04.521152Z",
          "iopub.status.idle": "2022-03-29T08:19:04.531054Z",
          "shell.execute_reply.started": "2022-03-29T08:19:04.521110Z",
          "shell.execute_reply": "2022-03-29T08:19:04.530332Z"
        },
        "trusted": true
      },
      "execution_count": null,
      "outputs": []
    },
    {
      "cell_type": "markdown",
      "source": [
        "# Prepare Dataset"
      ],
      "metadata": {
        "id": "YJ-EHg5od6qT"
      }
    },
    {
      "cell_type": "code",
      "source": [
        "data.head()"
      ],
      "metadata": {
        "id": "aHSAPKmtd6qT",
        "execution": {
          "iopub.status.busy": "2022-03-29T08:19:04.532411Z",
          "iopub.execute_input": "2022-03-29T08:19:04.533141Z",
          "iopub.status.idle": "2022-03-29T08:19:04.563486Z",
          "shell.execute_reply.started": "2022-03-29T08:19:04.533102Z",
          "shell.execute_reply": "2022-03-29T08:19:04.562290Z"
        },
        "trusted": true
      },
      "execution_count": null,
      "outputs": []
    },
    {
      "cell_type": "code",
      "source": [
        "X = data.drop(\"Outcome\", axis=1).values\n",
        "y = data.Outcome"
      ],
      "metadata": {
        "id": "ksO_APeVd6qT",
        "execution": {
          "iopub.status.busy": "2022-03-29T08:19:04.564779Z",
          "iopub.execute_input": "2022-03-29T08:19:04.565031Z",
          "iopub.status.idle": "2022-03-29T08:19:04.571935Z",
          "shell.execute_reply.started": "2022-03-29T08:19:04.565002Z",
          "shell.execute_reply": "2022-03-29T08:19:04.570675Z"
        },
        "trusted": true
      },
      "execution_count": null,
      "outputs": []
    },
    {
      "cell_type": "markdown",
      "source": [
        "## Splitting the dataset into the Training set and Test set"
      ],
      "metadata": {
        "id": "DV9R7Y8kd6qT"
      }
    },
    {
      "cell_type": "code",
      "source": [
        "X_train, X_test, y_train, y_test = train_test_split(X, y, test_size = 0.2, random_state = 0)"
      ],
      "metadata": {
        "id": "KdFUIeWCd6qT",
        "execution": {
          "iopub.status.busy": "2022-03-29T08:19:04.573708Z",
          "iopub.execute_input": "2022-03-29T08:19:04.574317Z",
          "iopub.status.idle": "2022-03-29T08:19:04.589263Z",
          "shell.execute_reply.started": "2022-03-29T08:19:04.574276Z",
          "shell.execute_reply": "2022-03-29T08:19:04.588263Z"
        },
        "trusted": true
      },
      "execution_count": null,
      "outputs": []
    },
    {
      "cell_type": "markdown",
      "source": [
        "## Feature Scaling - Scaling Data for Some Models"
      ],
      "metadata": {
        "id": "2Rftrisvd6qU"
      }
    },
    {
      "cell_type": "code",
      "source": [
        "sc = StandardScaler()\n",
        "\n",
        "X_train_scaled = sc.fit_transform(X_train)\n",
        "X_test_scaled = sc.transform(X_test)"
      ],
      "metadata": {
        "id": "tjAHEdBpd6qU",
        "execution": {
          "iopub.status.busy": "2022-03-29T08:19:04.592008Z",
          "iopub.execute_input": "2022-03-29T08:19:04.592624Z",
          "iopub.status.idle": "2022-03-29T08:19:04.601024Z",
          "shell.execute_reply.started": "2022-03-29T08:19:04.592569Z",
          "shell.execute_reply": "2022-03-29T08:19:04.600264Z"
        },
        "trusted": true
      },
      "execution_count": null,
      "outputs": []
    },
    {
      "cell_type": "markdown",
      "source": [
        "#### CatBoostClassifier Performed the Best with 90.26% Accuracy and 88.6% CrossVal-Accuracy"
      ],
      "metadata": {
        "id": "ly8q5acAd6qW"
      }
    },
    {
      "cell_type": "markdown",
      "source": [
        "# Using CatBoostClassifier"
      ],
      "metadata": {
        "id": "PQhNsMOAjh_i"
      }
    },
    {
      "cell_type": "code",
      "source": [
        "#KNN model \n",
        "from sklearn.neighbors import KNeighborsClassifier\n",
        "neigh = KNeighborsClassifier(n_neighbors=3)\n",
        "neigh.fit(X_train, y_train)\n",
        "pred=neigh.predict(X_test)"
      ],
      "metadata": {
        "execution": {
          "iopub.status.busy": "2022-03-29T08:19:04.602356Z",
          "iopub.execute_input": "2022-03-29T08:19:04.602822Z",
          "iopub.status.idle": "2022-03-29T08:19:04.625638Z",
          "shell.execute_reply.started": "2022-03-29T08:19:04.602772Z",
          "shell.execute_reply": "2022-03-29T08:19:04.624544Z"
        },
        "trusted": true,
        "id": "7l6oDjyisAYM"
      },
      "execution_count": null,
      "outputs": []
    },
    {
      "cell_type": "code",
      "source": [
        "score=accuracy_score(pred,y_test)\n",
        "score"
      ],
      "metadata": {
        "execution": {
          "iopub.status.busy": "2022-03-29T08:19:04.627780Z",
          "iopub.execute_input": "2022-03-29T08:19:04.628316Z",
          "iopub.status.idle": "2022-03-29T08:19:04.637185Z",
          "shell.execute_reply.started": "2022-03-29T08:19:04.628266Z",
          "shell.execute_reply": "2022-03-29T08:19:04.636483Z"
        },
        "trusted": true,
        "id": "_XB3fpZUsAYM"
      },
      "execution_count": null,
      "outputs": []
    },
    {
      "cell_type": "code",
      "source": [],
      "metadata": {
        "id": "q8mp1cXCsAYM"
      },
      "execution_count": null,
      "outputs": []
    },
    {
      "cell_type": "code",
      "source": [
        "classifier = CatBoostClassifier()\n",
        "classifier.fit(X_train, y_train)\n",
        "\n",
        "y_pred = classifier.predict(X_test)\n",
        "accuracy = accuracy_score(y_test, y_pred)\n",
        "\n",
        "cm = confusion_matrix(y_test, y_pred)"
      ],
      "metadata": {
        "id": "ysDIyRhpjkpL",
        "execution": {
          "iopub.status.busy": "2022-03-29T08:19:04.638416Z",
          "iopub.execute_input": "2022-03-29T08:19:04.639276Z",
          "iopub.status.idle": "2022-03-29T08:19:06.328254Z",
          "shell.execute_reply.started": "2022-03-29T08:19:04.639224Z",
          "shell.execute_reply": "2022-03-29T08:19:06.327152Z"
        },
        "trusted": true
      },
      "execution_count": null,
      "outputs": []
    },
    {
      "cell_type": "code",
      "source": [],
      "metadata": {
        "id": "n-VtXDdTsAYN"
      },
      "execution_count": null,
      "outputs": []
    },
    {
      "cell_type": "code",
      "source": [
        "print(\"Test Accuracy : \", accuracy, \"\\n\")\n",
        "\n",
        "print(\"Confusion Matrix \\n\", cm, \"\\n\")\n",
        "\n",
        "plt.rcParams[\"figure.figsize\"] = (6, 5)\n",
        "plt.rcParams[\"figure.dpi\"] = (100)\n",
        "sns.heatmap(confusion_matrix(y_test, y_pred), annot=True, fmt='2.0f')\n",
        "plt.show()"
      ],
      "metadata": {
        "id": "Jnha8OQLj0zy",
        "execution": {
          "iopub.status.busy": "2022-03-29T08:19:06.329931Z",
          "iopub.execute_input": "2022-03-29T08:19:06.330256Z",
          "iopub.status.idle": "2022-03-29T08:19:06.625911Z",
          "shell.execute_reply.started": "2022-03-29T08:19:06.330220Z",
          "shell.execute_reply": "2022-03-29T08:19:06.624835Z"
        },
        "trusted": true
      },
      "execution_count": null,
      "outputs": []
    },
    {
      "cell_type": "code",
      "source": [
        "#CatBoostClassifier+KNN ensemble\n",
        "from sklearn.ensemble import VotingClassifier\n",
        "model = VotingClassifier(estimators=[('lr', classifier), ('dt', neigh)], voting='hard')\n",
        "model.fit(X_train,y_train)\n",
        "model.score(X_test,y_test)"
      ],
      "metadata": {
        "execution": {
          "iopub.status.busy": "2022-03-29T08:19:06.627673Z",
          "iopub.execute_input": "2022-03-29T08:19:06.628274Z",
          "iopub.status.idle": "2022-03-29T08:19:08.247425Z",
          "shell.execute_reply.started": "2022-03-29T08:19:06.628233Z",
          "shell.execute_reply": "2022-03-29T08:19:08.246299Z"
        },
        "trusted": true,
        "id": "zhEU0TXBsAYN"
      },
      "execution_count": null,
      "outputs": []
    },
    {
      "cell_type": "code",
      "source": [
        "y_pred=model.predict(X_test)\n",
        "accuracy = accuracy_score(y_test, y_pred)\n",
        "\n",
        "cm = confusion_matrix(y_test, y_pred)"
      ],
      "metadata": {
        "execution": {
          "iopub.status.busy": "2022-03-29T08:19:08.248934Z",
          "iopub.execute_input": "2022-03-29T08:19:08.249305Z",
          "iopub.status.idle": "2022-03-29T08:19:08.270117Z",
          "shell.execute_reply.started": "2022-03-29T08:19:08.249257Z",
          "shell.execute_reply": "2022-03-29T08:19:08.269209Z"
        },
        "trusted": true,
        "id": "LANQSo8msAYO"
      },
      "execution_count": null,
      "outputs": []
    },
    {
      "cell_type": "code",
      "source": [
        "accuracy"
      ],
      "metadata": {
        "execution": {
          "iopub.status.busy": "2022-03-29T08:19:08.271344Z",
          "iopub.execute_input": "2022-03-29T08:19:08.271611Z",
          "iopub.status.idle": "2022-03-29T08:19:08.278650Z",
          "shell.execute_reply.started": "2022-03-29T08:19:08.271581Z",
          "shell.execute_reply": "2022-03-29T08:19:08.277571Z"
        },
        "trusted": true,
        "id": "tSqADcXRsAYO"
      },
      "execution_count": null,
      "outputs": []
    },
    {
      "cell_type": "code",
      "source": [
        "cm"
      ],
      "metadata": {
        "execution": {
          "iopub.status.busy": "2022-03-29T08:19:08.279950Z",
          "iopub.execute_input": "2022-03-29T08:19:08.280220Z",
          "iopub.status.idle": "2022-03-29T08:19:08.293124Z",
          "shell.execute_reply.started": "2022-03-29T08:19:08.280189Z",
          "shell.execute_reply": "2022-03-29T08:19:08.292308Z"
        },
        "trusted": true,
        "id": "38wRKaIdsAYO"
      },
      "execution_count": null,
      "outputs": []
    },
    {
      "cell_type": "code",
      "source": [
        "print(\"Test Accuracy : \", accuracy, \"\\n\")\n",
        "\n",
        "print(\"Confusion Matrix \\n\", cm, \"\\n\")\n",
        "\n",
        "plt.rcParams[\"figure.figsize\"] = (6, 5)\n",
        "plt.rcParams[\"figure.dpi\"] = (100)\n",
        "sns.heatmap(confusion_matrix(y_test, y_pred), annot=True, fmt='2.0f')\n",
        "plt.show()"
      ],
      "metadata": {
        "_kg_hide-input": true,
        "execution": {
          "iopub.status.busy": "2022-03-29T08:19:08.294490Z",
          "iopub.execute_input": "2022-03-29T08:19:08.295448Z",
          "iopub.status.idle": "2022-03-29T08:19:08.985723Z",
          "shell.execute_reply.started": "2022-03-29T08:19:08.295411Z",
          "shell.execute_reply": "2022-03-29T08:19:08.984815Z"
        },
        "trusted": true,
        "id": "gyF8TDs1sAYO"
      },
      "execution_count": null,
      "outputs": []
    },
    {
      "cell_type": "markdown",
      "source": [
        "![](http://)"
      ],
      "metadata": {
        "id": "YIPi0vx4sAYP"
      }
    },
    {
      "cell_type": "markdown",
      "source": [],
      "metadata": {
        "id": "VhTOfqnKsAYP"
      }
    },
    {
      "cell_type": "markdown",
      "source": [
        "# Credits\n",
        "#### https://www.kaggle.com/vincentlugat/pima-indians-diabetes-eda-prediction-0-906"
      ],
      "metadata": {
        "id": "ShSz1NsasAYP"
      }
    },
    {
      "cell_type": "code",
      "source": [],
      "metadata": {
        "id": "tMr4gJ4NsAYP"
      },
      "execution_count": null,
      "outputs": []
    }
  ]
}